{
 "cells": [
  {
   "cell_type": "markdown",
   "metadata": {},
   "source": []
  },
  {
   "cell_type": "code",
   "execution_count": null,
   "metadata": {},
   "outputs": [],
   "source": []
  },
  {
   "cell_type": "markdown",
   "metadata": {},
   "source": [
    "# To set data frame display options"
   ]
  },
  {
   "cell_type": "code",
   "execution_count": 4,
   "metadata": {},
   "outputs": [],
   "source": [
    "pd.set_option(\"max_colwidth\", 1000)# show up to 1000 character within each cell"
   ]
  },
  {
   "cell_type": "code",
   "execution_count": null,
   "metadata": {},
   "outputs": [],
   "source": [
    "pd.set_option(\"max_rows\",20) # to show up 20 rows"
   ]
  },
  {
   "cell_type": "code",
   "execution_count": 5,
   "metadata": {},
   "outputs": [],
   "source": [
    "pd.set_option(\"max_columns\",1000)# to show 1000 columns"
   ]
  },
  {
   "cell_type": "markdown",
   "metadata": {},
   "source": [
    "<h3>The API is composed of 5 relevant functions, available directly from the pandas namespace:\n",
    "\n",
    "get_option() / set_option() - get/set the value of a single option.\n",
    "\n",
    "reset_option() - reset one or more options to their default value.\n",
    "\n",
    "describe_option() - print the descriptions of one or more options.\n",
    "\n",
    "option_context() - execute a codeblock with a set of options that revert to prior settings after execution."
   ]
  },
  {
   "cell_type": "code",
   "execution_count": 7,
   "metadata": {},
   "outputs": [
    {
     "data": {
      "text/plain": [
       "60"
      ]
     },
     "execution_count": 7,
     "metadata": {},
     "output_type": "execute_result"
    }
   ],
   "source": [
    "pd.get_option(\"display.max_rows\")\n"
   ]
  },
  {
   "cell_type": "code",
   "execution_count": 8,
   "metadata": {},
   "outputs": [],
   "source": [
    "pd.set_option(\"display.max_rows\", 101)"
   ]
  },
  {
   "cell_type": "code",
   "execution_count": 9,
   "metadata": {},
   "outputs": [
    {
     "data": {
      "text/plain": [
       "101"
      ]
     },
     "execution_count": 9,
     "metadata": {},
     "output_type": "execute_result"
    }
   ],
   "source": [
    "pd.get_option(\"display.max_rows\")"
   ]
  },
  {
   "cell_type": "code",
   "execution_count": 10,
   "metadata": {},
   "outputs": [],
   "source": [
    "pd.set_option(\"max_r\", 102)"
   ]
  },
  {
   "cell_type": "code",
   "execution_count": 11,
   "metadata": {},
   "outputs": [
    {
     "data": {
      "text/plain": [
       "102"
      ]
     },
     "execution_count": 11,
     "metadata": {},
     "output_type": "execute_result"
    }
   ],
   "source": [
    "pd.get_option(\"display.max_rows\")"
   ]
  },
  {
   "cell_type": "code",
   "execution_count": 14,
   "metadata": {},
   "outputs": [
    {
     "data": {
      "text/plain": [
       "True"
      ]
     },
     "execution_count": 14,
     "metadata": {},
     "output_type": "execute_result"
    }
   ],
   "source": [
    "pd.get_option('mode.sim_interactive')"
   ]
  },
  {
   "cell_type": "code",
   "execution_count": 12,
   "metadata": {},
   "outputs": [],
   "source": [
    "pd.set_option('mode.sim_interactive', True)"
   ]
  },
  {
   "cell_type": "code",
   "execution_count": 13,
   "metadata": {},
   "outputs": [
    {
     "data": {
      "text/plain": [
       "True"
      ]
     },
     "execution_count": 13,
     "metadata": {},
     "output_type": "execute_result"
    }
   ],
   "source": [
    "pd.get_option('mode.sim_interactive')"
   ]
  },
  {
   "cell_type": "code",
   "execution_count": 15,
   "metadata": {},
   "outputs": [],
   "source": [
    "pd.reset_option(\"^display\")"
   ]
  },
  {
   "cell_type": "markdown",
   "metadata": {},
   "source": [
    "<h3><font color='red'> option_context </font> **context manager**has been exposed through the top-level API, allowing you to execute code with given option values. Option values are restored automatically when you exit the with block:"
   ]
  },
  {
   "cell_type": "code",
   "execution_count": 17,
   "metadata": {},
   "outputs": [
    {
     "name": "stdout",
     "output_type": "stream",
     "text": [
      "10\n",
      "5\n"
     ]
    }
   ],
   "source": [
    "with pd.option_context(\"display.max_rows\", 10, \"display.max_columns\", 5):\n",
    "        print(pd.get_option(\"display.max_rows\"))\n",
    "        print(pd.get_option(\"display.max_columns\"))\n"
   ]
  },
  {
   "cell_type": "code",
   "execution_count": 18,
   "metadata": {},
   "outputs": [
    {
     "name": "stdout",
     "output_type": "stream",
     "text": [
      "60\n"
     ]
    }
   ],
   "source": [
    "print(pd.get_option(\"display.max_rows\"))"
   ]
  },
  {
   "cell_type": "code",
   "execution_count": 19,
   "metadata": {},
   "outputs": [
    {
     "name": "stdout",
     "output_type": "stream",
     "text": [
      "20\n"
     ]
    }
   ],
   "source": [
    "print(pd.get_option(\"display.max_columns\"))"
   ]
  },
  {
   "cell_type": "markdown",
   "metadata": {},
   "source": [
    "**Before That You should no about Truncate in python**"
   ]
  },
  {
   "cell_type": "code",
   "execution_count": 25,
   "metadata": {
    "scrolled": true
   },
   "outputs": [
    {
     "data": {
      "text/html": [
       "<div>\n",
       "<style scoped>\n",
       "    .dataframe tbody tr th:only-of-type {\n",
       "        vertical-align: middle;\n",
       "    }\n",
       "\n",
       "    .dataframe tbody tr th {\n",
       "        vertical-align: top;\n",
       "    }\n",
       "\n",
       "    .dataframe thead th {\n",
       "        text-align: right;\n",
       "    }\n",
       "</style>\n",
       "<table border=\"1\" class=\"dataframe\">\n",
       "  <thead>\n",
       "    <tr style=\"text-align: right;\">\n",
       "      <th></th>\n",
       "      <th>0</th>\n",
       "      <th>1</th>\n",
       "      <th>2</th>\n",
       "      <th>3</th>\n",
       "      <th>4</th>\n",
       "      <th>5</th>\n",
       "      <th>6</th>\n",
       "      <th>7</th>\n",
       "      <th>8</th>\n",
       "      <th>9</th>\n",
       "    </tr>\n",
       "  </thead>\n",
       "  <tbody>\n",
       "    <tr>\n",
       "      <th>0</th>\n",
       "      <td>-0.117105</td>\n",
       "      <td>0.236639</td>\n",
       "      <td>0.705081</td>\n",
       "      <td>-0.131104</td>\n",
       "      <td>-0.603788</td>\n",
       "      <td>0.628279</td>\n",
       "      <td>0.568408</td>\n",
       "      <td>-2.173030</td>\n",
       "      <td>-0.964672</td>\n",
       "      <td>-0.656437</td>\n",
       "    </tr>\n",
       "    <tr>\n",
       "      <th>1</th>\n",
       "      <td>0.953704</td>\n",
       "      <td>-0.872856</td>\n",
       "      <td>0.806125</td>\n",
       "      <td>-1.315757</td>\n",
       "      <td>-0.648983</td>\n",
       "      <td>-0.431004</td>\n",
       "      <td>-0.237894</td>\n",
       "      <td>1.626886</td>\n",
       "      <td>-0.394465</td>\n",
       "      <td>0.704582</td>\n",
       "    </tr>\n",
       "    <tr>\n",
       "      <th>2</th>\n",
       "      <td>0.719470</td>\n",
       "      <td>1.169170</td>\n",
       "      <td>0.515080</td>\n",
       "      <td>0.160596</td>\n",
       "      <td>-0.637892</td>\n",
       "      <td>0.543677</td>\n",
       "      <td>-0.462439</td>\n",
       "      <td>0.171372</td>\n",
       "      <td>0.603264</td>\n",
       "      <td>0.957309</td>\n",
       "    </tr>\n",
       "    <tr>\n",
       "      <th>3</th>\n",
       "      <td>0.924006</td>\n",
       "      <td>-1.332224</td>\n",
       "      <td>-0.055847</td>\n",
       "      <td>-0.015565</td>\n",
       "      <td>0.541889</td>\n",
       "      <td>1.249520</td>\n",
       "      <td>-0.123529</td>\n",
       "      <td>-0.391185</td>\n",
       "      <td>-0.140698</td>\n",
       "      <td>1.879937</td>\n",
       "    </tr>\n",
       "    <tr>\n",
       "      <th>4</th>\n",
       "      <td>1.136414</td>\n",
       "      <td>-0.285866</td>\n",
       "      <td>0.209954</td>\n",
       "      <td>0.724919</td>\n",
       "      <td>-0.671629</td>\n",
       "      <td>-1.454440</td>\n",
       "      <td>1.159432</td>\n",
       "      <td>-0.622347</td>\n",
       "      <td>0.093786</td>\n",
       "      <td>1.089590</td>\n",
       "    </tr>\n",
       "  </tbody>\n",
       "</table>\n",
       "</div>"
      ],
      "text/plain": [
       "          0         1         2         3         4         5         6  \\\n",
       "0 -0.117105  0.236639  0.705081 -0.131104 -0.603788  0.628279  0.568408   \n",
       "1  0.953704 -0.872856  0.806125 -1.315757 -0.648983 -0.431004 -0.237894   \n",
       "2  0.719470  1.169170  0.515080  0.160596 -0.637892  0.543677 -0.462439   \n",
       "3  0.924006 -1.332224 -0.055847 -0.015565  0.541889  1.249520 -0.123529   \n",
       "4  1.136414 -0.285866  0.209954  0.724919 -0.671629 -1.454440  1.159432   \n",
       "\n",
       "          7         8         9  \n",
       "0 -2.173030 -0.964672 -0.656437  \n",
       "1  1.626886 -0.394465  0.704582  \n",
       "2  0.171372  0.603264  0.957309  \n",
       "3 -0.391185 -0.140698  1.879937  \n",
       "4 -0.622347  0.093786  1.089590  "
      ]
     },
     "execution_count": 25,
     "metadata": {},
     "output_type": "execute_result"
    }
   ],
   "source": [
    "df = pd.DataFrame(np.random.randn(5,10))\n",
    "pd.set_option('expand_frame_repr', True)\n",
    "df"
   ]
  },
  {
   "cell_type": "code",
   "execution_count": 28,
   "metadata": {},
   "outputs": [
    {
     "data": {
      "text/html": [
       "<div>\n",
       "<style scoped>\n",
       "    .dataframe tbody tr th:only-of-type {\n",
       "        vertical-align: middle;\n",
       "    }\n",
       "\n",
       "    .dataframe tbody tr th {\n",
       "        vertical-align: top;\n",
       "    }\n",
       "\n",
       "    .dataframe thead th {\n",
       "        text-align: right;\n",
       "    }\n",
       "</style>\n",
       "<table border=\"1\" class=\"dataframe\">\n",
       "  <thead>\n",
       "    <tr style=\"text-align: right;\">\n",
       "      <th></th>\n",
       "      <th>0</th>\n",
       "      <th>1</th>\n",
       "      <th>2</th>\n",
       "      <th>3</th>\n",
       "      <th>4</th>\n",
       "      <th>5</th>\n",
       "      <th>6</th>\n",
       "      <th>7</th>\n",
       "      <th>8</th>\n",
       "      <th>9</th>\n",
       "    </tr>\n",
       "  </thead>\n",
       "  <tbody>\n",
       "    <tr>\n",
       "      <th>0</th>\n",
       "      <td>-0.117105</td>\n",
       "      <td>0.236639</td>\n",
       "      <td>0.705081</td>\n",
       "      <td>-0.131104</td>\n",
       "      <td>-0.603788</td>\n",
       "      <td>0.628279</td>\n",
       "      <td>0.568408</td>\n",
       "      <td>-2.173030</td>\n",
       "      <td>-0.964672</td>\n",
       "      <td>-0.656437</td>\n",
       "    </tr>\n",
       "    <tr>\n",
       "      <th>1</th>\n",
       "      <td>0.953704</td>\n",
       "      <td>-0.872856</td>\n",
       "      <td>0.806125</td>\n",
       "      <td>-1.315757</td>\n",
       "      <td>-0.648983</td>\n",
       "      <td>-0.431004</td>\n",
       "      <td>-0.237894</td>\n",
       "      <td>1.626886</td>\n",
       "      <td>-0.394465</td>\n",
       "      <td>0.704582</td>\n",
       "    </tr>\n",
       "    <tr>\n",
       "      <th>2</th>\n",
       "      <td>0.719470</td>\n",
       "      <td>1.169170</td>\n",
       "      <td>0.515080</td>\n",
       "      <td>0.160596</td>\n",
       "      <td>-0.637892</td>\n",
       "      <td>0.543677</td>\n",
       "      <td>-0.462439</td>\n",
       "      <td>0.171372</td>\n",
       "      <td>0.603264</td>\n",
       "      <td>0.957309</td>\n",
       "    </tr>\n",
       "    <tr>\n",
       "      <th>3</th>\n",
       "      <td>0.924006</td>\n",
       "      <td>-1.332224</td>\n",
       "      <td>-0.055847</td>\n",
       "      <td>-0.015565</td>\n",
       "      <td>0.541889</td>\n",
       "      <td>1.249520</td>\n",
       "      <td>-0.123529</td>\n",
       "      <td>-0.391185</td>\n",
       "      <td>-0.140698</td>\n",
       "      <td>1.879937</td>\n",
       "    </tr>\n",
       "    <tr>\n",
       "      <th>4</th>\n",
       "      <td>1.136414</td>\n",
       "      <td>-0.285866</td>\n",
       "      <td>0.209954</td>\n",
       "      <td>0.724919</td>\n",
       "      <td>-0.671629</td>\n",
       "      <td>-1.454440</td>\n",
       "      <td>1.159432</td>\n",
       "      <td>-0.622347</td>\n",
       "      <td>0.093786</td>\n",
       "      <td>1.089590</td>\n",
       "    </tr>\n",
       "  </tbody>\n",
       "</table>\n",
       "</div>"
      ],
      "text/plain": [
       "          0         1         2         3         4         5         6         7         8         9\n",
       "0 -0.117105  0.236639  0.705081 -0.131104 -0.603788  0.628279  0.568408 -2.173030 -0.964672 -0.656437\n",
       "1  0.953704 -0.872856  0.806125 -1.315757 -0.648983 -0.431004 -0.237894  1.626886 -0.394465  0.704582\n",
       "2  0.719470  1.169170  0.515080  0.160596 -0.637892  0.543677 -0.462439  0.171372  0.603264  0.957309\n",
       "3  0.924006 -1.332224 -0.055847 -0.015565  0.541889  1.249520 -0.123529 -0.391185 -0.140698  1.879937\n",
       "4  1.136414 -0.285866  0.209954  0.724919 -0.671629 -1.454440  1.159432 -0.622347  0.093786  1.089590"
      ]
     },
     "execution_count": 28,
     "metadata": {},
     "output_type": "execute_result"
    }
   ],
   "source": [
    "pd.set_option('expand_frame_repr', False)\n",
    "df"
   ]
  },
  {
   "cell_type": "markdown",
   "metadata": {},
   "source": [
    "<h3>display.max_rows and display.max_columns sets the maximum number of rows and columns displayed when a frame is pretty-printed. Truncated lines are replaced by an ellipsis."
   ]
  },
  {
   "cell_type": "code",
   "execution_count": 29,
   "metadata": {},
   "outputs": [],
   "source": [
    "df = pd.DataFrame(np.random.randn(7, 2))\n"
   ]
  },
  {
   "cell_type": "code",
   "execution_count": 32,
   "metadata": {},
   "outputs": [
    {
     "data": {
      "text/html": [
       "<div>\n",
       "<style scoped>\n",
       "    .dataframe tbody tr th:only-of-type {\n",
       "        vertical-align: middle;\n",
       "    }\n",
       "\n",
       "    .dataframe tbody tr th {\n",
       "        vertical-align: top;\n",
       "    }\n",
       "\n",
       "    .dataframe thead th {\n",
       "        text-align: right;\n",
       "    }\n",
       "</style>\n",
       "<table border=\"1\" class=\"dataframe\">\n",
       "  <thead>\n",
       "    <tr style=\"text-align: right;\">\n",
       "      <th></th>\n",
       "      <th>0</th>\n",
       "      <th>1</th>\n",
       "    </tr>\n",
       "  </thead>\n",
       "  <tbody>\n",
       "    <tr>\n",
       "      <th>0</th>\n",
       "      <td>-0.483847</td>\n",
       "      <td>2.186343</td>\n",
       "    </tr>\n",
       "    <tr>\n",
       "      <th>1</th>\n",
       "      <td>0.629977</td>\n",
       "      <td>-1.218913</td>\n",
       "    </tr>\n",
       "    <tr>\n",
       "      <th>2</th>\n",
       "      <td>0.274482</td>\n",
       "      <td>1.348612</td>\n",
       "    </tr>\n",
       "    <tr>\n",
       "      <th>3</th>\n",
       "      <td>0.175394</td>\n",
       "      <td>0.179561</td>\n",
       "    </tr>\n",
       "    <tr>\n",
       "      <th>4</th>\n",
       "      <td>1.410744</td>\n",
       "      <td>1.467620</td>\n",
       "    </tr>\n",
       "    <tr>\n",
       "      <th>5</th>\n",
       "      <td>-0.502889</td>\n",
       "      <td>0.220183</td>\n",
       "    </tr>\n",
       "    <tr>\n",
       "      <th>6</th>\n",
       "      <td>0.658564</td>\n",
       "      <td>-1.991557</td>\n",
       "    </tr>\n",
       "  </tbody>\n",
       "</table>\n",
       "</div>"
      ],
      "text/plain": [
       "          0         1\n",
       "0 -0.483847  2.186343\n",
       "1  0.629977 -1.218913\n",
       "2  0.274482  1.348612\n",
       "3  0.175394  0.179561\n",
       "4  1.410744  1.467620\n",
       "5 -0.502889  0.220183\n",
       "6  0.658564 -1.991557"
      ]
     },
     "execution_count": 32,
     "metadata": {},
     "output_type": "execute_result"
    }
   ],
   "source": [
    "pd.set_option('max_rows', 7)\n",
    "df"
   ]
  },
  {
   "cell_type": "code",
   "execution_count": 33,
   "metadata": {},
   "outputs": [
    {
     "data": {
      "text/html": [
       "<div>\n",
       "<style scoped>\n",
       "    .dataframe tbody tr th:only-of-type {\n",
       "        vertical-align: middle;\n",
       "    }\n",
       "\n",
       "    .dataframe tbody tr th {\n",
       "        vertical-align: top;\n",
       "    }\n",
       "\n",
       "    .dataframe thead th {\n",
       "        text-align: right;\n",
       "    }\n",
       "</style>\n",
       "<table border=\"1\" class=\"dataframe\">\n",
       "  <thead>\n",
       "    <tr style=\"text-align: right;\">\n",
       "      <th></th>\n",
       "      <th>0</th>\n",
       "      <th>1</th>\n",
       "    </tr>\n",
       "  </thead>\n",
       "  <tbody>\n",
       "    <tr>\n",
       "      <th>0</th>\n",
       "      <td>-0.483847</td>\n",
       "      <td>2.186343</td>\n",
       "    </tr>\n",
       "    <tr>\n",
       "      <th>1</th>\n",
       "      <td>0.629977</td>\n",
       "      <td>-1.218913</td>\n",
       "    </tr>\n",
       "    <tr>\n",
       "      <th>...</th>\n",
       "      <td>...</td>\n",
       "      <td>...</td>\n",
       "    </tr>\n",
       "    <tr>\n",
       "      <th>5</th>\n",
       "      <td>-0.502889</td>\n",
       "      <td>0.220183</td>\n",
       "    </tr>\n",
       "    <tr>\n",
       "      <th>6</th>\n",
       "      <td>0.658564</td>\n",
       "      <td>-1.991557</td>\n",
       "    </tr>\n",
       "  </tbody>\n",
       "</table>\n",
       "<p>7 rows × 2 columns</p>\n",
       "</div>"
      ],
      "text/plain": [
       "           0         1\n",
       "0  -0.483847  2.186343\n",
       "1   0.629977 -1.218913\n",
       "..       ...       ...\n",
       "5  -0.502889  0.220183\n",
       "6   0.658564 -1.991557\n",
       "\n",
       "[7 rows x 2 columns]"
      ]
     },
     "execution_count": 33,
     "metadata": {},
     "output_type": "execute_result"
    }
   ],
   "source": [
    "pd.set_option('max_rows', 5)\n",
    "df"
   ]
  },
  {
   "cell_type": "code",
   "execution_count": 35,
   "metadata": {},
   "outputs": [
    {
     "data": {
      "text/html": [
       "<div>\n",
       "<style scoped>\n",
       "    .dataframe tbody tr th:only-of-type {\n",
       "        vertical-align: middle;\n",
       "    }\n",
       "\n",
       "    .dataframe tbody tr th {\n",
       "        vertical-align: top;\n",
       "    }\n",
       "\n",
       "    .dataframe thead th {\n",
       "        text-align: right;\n",
       "    }\n",
       "</style>\n",
       "<table border=\"1\" class=\"dataframe\">\n",
       "  <thead>\n",
       "    <tr style=\"text-align: right;\">\n",
       "      <th></th>\n",
       "      <th>0</th>\n",
       "      <th>1</th>\n",
       "    </tr>\n",
       "  </thead>\n",
       "  <tbody>\n",
       "    <tr>\n",
       "      <th>0</th>\n",
       "      <td>-0.483847</td>\n",
       "      <td>2.186343</td>\n",
       "    </tr>\n",
       "    <tr>\n",
       "      <th>1</th>\n",
       "      <td>0.629977</td>\n",
       "      <td>-1.218913</td>\n",
       "    </tr>\n",
       "    <tr>\n",
       "      <th>2</th>\n",
       "      <td>0.274482</td>\n",
       "      <td>1.348612</td>\n",
       "    </tr>\n",
       "    <tr>\n",
       "      <th>3</th>\n",
       "      <td>0.175394</td>\n",
       "      <td>0.179561</td>\n",
       "    </tr>\n",
       "    <tr>\n",
       "      <th>4</th>\n",
       "      <td>1.410744</td>\n",
       "      <td>1.467620</td>\n",
       "    </tr>\n",
       "    <tr>\n",
       "      <th>5</th>\n",
       "      <td>-0.502889</td>\n",
       "      <td>0.220183</td>\n",
       "    </tr>\n",
       "    <tr>\n",
       "      <th>6</th>\n",
       "      <td>0.658564</td>\n",
       "      <td>-1.991557</td>\n",
       "    </tr>\n",
       "  </tbody>\n",
       "</table>\n",
       "</div>"
      ],
      "text/plain": [
       "          0         1\n",
       "0 -0.483847  2.186343\n",
       "1  0.629977 -1.218913\n",
       "2  0.274482  1.348612\n",
       "3  0.175394  0.179561\n",
       "4  1.410744  1.467620\n",
       "5 -0.502889  0.220183\n",
       "6  0.658564 -1.991557"
      ]
     },
     "execution_count": 35,
     "metadata": {},
     "output_type": "execute_result"
    }
   ],
   "source": [
    "pd.reset_option('max_rows')\n",
    "df"
   ]
  },
  {
   "cell_type": "code",
   "execution_count": 38,
   "metadata": {},
   "outputs": [
    {
     "data": {
      "text/html": [
       "<div>\n",
       "<style scoped>\n",
       "    .dataframe tbody tr th:only-of-type {\n",
       "        vertical-align: middle;\n",
       "    }\n",
       "\n",
       "    .dataframe tbody tr th {\n",
       "        vertical-align: top;\n",
       "    }\n",
       "\n",
       "    .dataframe thead th {\n",
       "        text-align: right;\n",
       "    }\n",
       "</style>\n",
       "<table border=\"1\" class=\"dataframe\">\n",
       "  <thead>\n",
       "    <tr style=\"text-align: right;\">\n",
       "      <th></th>\n",
       "      <th>0</th>\n",
       "      <th>1</th>\n",
       "    </tr>\n",
       "  </thead>\n",
       "  <tbody>\n",
       "    <tr>\n",
       "      <th>0</th>\n",
       "      <td>-0.483847</td>\n",
       "      <td>2.186343</td>\n",
       "    </tr>\n",
       "    <tr>\n",
       "      <th>1</th>\n",
       "      <td>0.629977</td>\n",
       "      <td>-1.218913</td>\n",
       "    </tr>\n",
       "    <tr>\n",
       "      <th>2</th>\n",
       "      <td>0.274482</td>\n",
       "      <td>1.348612</td>\n",
       "    </tr>\n",
       "    <tr>\n",
       "      <th>3</th>\n",
       "      <td>0.175394</td>\n",
       "      <td>0.179561</td>\n",
       "    </tr>\n",
       "    <tr>\n",
       "      <th>4</th>\n",
       "      <td>1.410744</td>\n",
       "      <td>1.467620</td>\n",
       "    </tr>\n",
       "    <tr>\n",
       "      <th>5</th>\n",
       "      <td>-0.502889</td>\n",
       "      <td>0.220183</td>\n",
       "    </tr>\n",
       "    <tr>\n",
       "      <th>6</th>\n",
       "      <td>0.658564</td>\n",
       "      <td>-1.991557</td>\n",
       "    </tr>\n",
       "  </tbody>\n",
       "</table>\n",
       "</div>"
      ],
      "text/plain": [
       "          0         1\n",
       "0 -0.483847  2.186343\n",
       "1  0.629977 -1.218913\n",
       "2  0.274482  1.348612\n",
       "3  0.175394  0.179561\n",
       "4  1.410744  1.467620\n",
       "5 -0.502889  0.220183\n",
       "6  0.658564 -1.991557"
      ]
     },
     "execution_count": 38,
     "metadata": {},
     "output_type": "execute_result"
    }
   ],
   "source": [
    "pd.set_option('max_rows', 8)\n",
    "pd.set_option('min_rows', 4)\n",
    "df"
   ]
  },
  {
   "cell_type": "code",
   "execution_count": 40,
   "metadata": {},
   "outputs": [],
   "source": [
    "pd.reset_option('max_rows')\n",
    "pd.reset_option('min_rows')"
   ]
  },
  {
   "cell_type": "markdown",
   "metadata": {},
   "source": [
    "# How pandas displays numbers"
   ]
  },
  {
   "cell_type": "markdown",
   "metadata": {},
   "source": [
    "If you want to alter how numbers are shown within DataFrames, use these handy options to round trailing decimal numbers."
   ]
  },
  {
   "cell_type": "markdown",
   "metadata": {},
   "source": [
    "pd.set_option(‘precision’, 2) # Round to two decimal points"
   ]
  },
  {
   "cell_type": "markdown",
   "metadata": {},
   "source": [
    "<h5>This second option also provides the functionality of comma separators between three digits of larger numbers:"
   ]
  },
  {
   "cell_type": "markdown",
   "metadata": {},
   "source": [
    "pd.options.display.float_format = ‘{:,.2f}’.format"
   ]
  },
  {
   "cell_type": "markdown",
   "metadata": {},
   "source": [
    "<h1>**Pandas Profilling for Automated EDA**"
   ]
  },
  {
   "cell_type": "markdown",
   "metadata": {},
   "source": [
    "<font color=\"violet\"><h3>Use the pandas-profiling toolkit to automate much of your exploratory data analysis. EDA is the crucial phase zero of any data science project. It typically involves basic statistical analytics and looking at how features correlate with each other."
   ]
  },
  {
   "cell_type": "markdown",
   "metadata": {},
   "source": [
    "<h1>Measuring and Optimising Runtime"
   ]
  },
  {
   "cell_type": "markdown",
   "metadata": {},
   "source": [
    "<font color=\"blue\"><h3>Data Scientists have to some degree of a notoriety for being tinkerers. But as the field is progressively drawing closer to program building, the request for brief, profoundly performant code has expanded. The execution of a program ought to be evaluated in terms of time, space, and disk utilize — keys to versatile execution."
   ]
  },
  {
   "cell_type": "markdown",
   "metadata": {},
   "source": [
    "<h1>Time Series Analysis"
   ]
  },
  {
   "cell_type": "markdown",
   "metadata": {},
   "source": [
    "Fortunately, the <font color= \"radium\">dtw-python package</font> provides an intuitive way to compare time series. In short, Dynamic Time Warping calculates the distance between two arrays or time series of different length."
   ]
  },
  {
   "cell_type": "markdown",
   "metadata": {},
   "source": [
    "<h1><font color=\"red\">setting up an virtual Environment"
   ]
  },
  {
   "cell_type": "markdown",
   "metadata": {},
   "source": [
    "it setups an isolated workspace for your python Project\n",
    "\n",
    "1.Avoiding package conflicts\n",
    "\n",
    "2.Providing clear line of sight on where packages are being installed\n",
    "\n",
    "3.Ensuring consistency in package version utilized by the project"
   ]
  },
  {
   "cell_type": "markdown",
   "metadata": {},
   "source": [
    "<h1><font color= \"grey\"> finding utility code"
   ]
  },
  {
   "cell_type": "markdown",
   "metadata": {},
   "source": [
    "You’ve heard the expression “standing on the shoulders of giants.” Python is an exceedingly well-resourced language. You can speed up your data science discoveries by recognizing you don’t have to go it alone — you can and should reuse the utility code of the programmers who’ve come before you."
   ]
  },
  {
   "cell_type": "code",
   "execution_count": null,
   "metadata": {},
   "outputs": [],
   "source": []
  }
 ],
 "metadata": {
  "kernelspec": {
   "display_name": "Python 3",
   "language": "python",
   "name": "python3"
  },
  "language_info": {
   "codemirror_mode": {
    "name": "ipython",
    "version": 3
   },
   "file_extension": ".py",
   "mimetype": "text/x-python",
   "name": "python",
   "nbconvert_exporter": "python",
   "pygments_lexer": "ipython3",
   "version": "3.8.2"
  }
 },
 "nbformat": 4,
 "nbformat_minor": 4
}
